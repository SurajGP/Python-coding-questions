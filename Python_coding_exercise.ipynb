{
  "cells": [
    {
      "cell_type": "markdown",
      "source": [
        "### Following are few python exercises to take care of various tasks:\n",
        "\n",
        "Note: Few programs may not run on Google collab but they do run perfectly well on Jupyter Notebook."
      ],
      "metadata": {
        "id": "xf398-_LCwpB"
      }
    },
    {
      "cell_type": "markdown",
      "source": [
        "# Months,Weeks,Days remaining in this life."
      ],
      "metadata": {
        "id": "cr3lmYASBVO-"
      }
    },
    {
      "cell_type": "code",
      "source": [
        "# Months,Weeks,Days remaining in this life.\n",
        "current_age = float(input(\"What is your current age? \"))\n",
        "max_age = 100\n",
        "years_rem = max_age - current_age\n",
        "months_rem = years_rem*12\n",
        "weeks_rem = years_rem*52\n",
        "days_rem = years_rem*365\n",
        "message = f\"You have {years_rem} years / {months_rem} months / {weeks_rem} weeks / {days_rem} days.\"\n",
        "print(message)"
      ],
      "metadata": {
        "colab": {
          "base_uri": "https://localhost:8080/"
        },
        "id": "9I6X6tczBRiL",
        "outputId": "2b21808d-5691-45ad-9533-f5cbf05fa882"
      },
      "execution_count": null,
      "outputs": [
        {
          "output_type": "stream",
          "name": "stdout",
          "text": [
            "What is your current age? 99\n",
            "You have 1.0 years / 12.0 months / 52.0 weeks / 365.0 days.\n"
          ]
        }
      ]
    },
    {
      "cell_type": "markdown",
      "source": [
        "# Tip Calculator"
      ],
      "metadata": {
        "id": "a-RgmiyqAoCn"
      }
    },
    {
      "cell_type": "code",
      "source": [
        "# Tip Calculator\n",
        "print(\"Welcome to the Tip Calculator!\")\n",
        "bill = float(input(\"What was the total bill? : $\\n\"))\n",
        "tip = float(input(\"What % of tip would you like to give? : %\\n\"))\n",
        "people = int(input(\"Amongst how many poeple should the tip be shared? : \\n\"))\n",
        "total_bill = round(float((bill + (bill * (tip/100)))/people),2)\n",
        "print(f\"Each person has to pay ${total_bill}.\")"
      ],
      "metadata": {
        "colab": {
          "base_uri": "https://localhost:8080/"
        },
        "id": "RtMr0oXXNG_X",
        "outputId": "6450c2ab-1247-446a-c9a5-03e28deefc66"
      },
      "execution_count": null,
      "outputs": [
        {
          "output_type": "stream",
          "name": "stdout",
          "text": [
            "Welcome to the Tip Calculator!\n",
            "What was the total bill? : $\n",
            "112.5\n",
            "What % of tip would you like to give? : %\n",
            "12.5\n",
            "Amongst how many poeple should the tip be shared? : \n",
            "5\n",
            "Each person has to pay $25.31.\n"
          ]
        }
      ]
    },
    {
      "cell_type": "markdown",
      "source": [
        "# BMI Calculator."
      ],
      "metadata": {
        "id": "wb6ICKz-CDCR"
      }
    },
    {
      "cell_type": "code",
      "source": [
        "# BMI Calculator\n",
        "print(\"Welcome to BMI Calculator!\")\n",
        "weight = float(input(\"what is your weight in kilograms? : \"))\n",
        "height_cm = float(input(\"What is your height in cms? : \"))\n",
        "BMI = weight / (height_cm/100)**2\n",
        "\n",
        "if BMI < 18.5:\n",
        "  print( f\"Your BMI is {round(BMI,2)} and you are underweight.\")\n",
        "elif BMI >= 18.5 and BMI <25:\n",
        "  print( f\"Your BMI is {round(BMI,2)} and you are normal weight.\")\n",
        "elif BMI >= 25 and BMI < 30:\n",
        "  print( f\"Your BMI is {round(BMI,2)} and you are over weight.\")\n",
        "else:\n",
        "  print( f\"Your BMI is {round(BMI,2)} and you are clinically obese.\")\n"
      ],
      "metadata": {
        "colab": {
          "base_uri": "https://localhost:8080/"
        },
        "id": "b8bfz8TyjiIo",
        "outputId": "37f5026d-011b-442a-f026-092ba1b303a0"
      },
      "execution_count": null,
      "outputs": [
        {
          "output_type": "stream",
          "name": "stdout",
          "text": [
            "Welcome to BMI Calculator!\n",
            "what is your weight in kilograms? : 69\n",
            "What is your height in cms? : 185\n",
            "Your BMI is 20.16 and you are normal weight.\n"
          ]
        }
      ]
    },
    {
      "cell_type": "markdown",
      "source": [
        "# Leap Year."
      ],
      "metadata": {
        "id": "o2bSZTaECJm0"
      }
    },
    {
      "cell_type": "code",
      "source": [
        "# Leap Year\n",
        "# This is how you work out if a particular year is a leap year or not:\n",
        "# The year has to be divisible by 4.\n",
        "# except every year that is divisible by 100.\n",
        "# unless it is also divisible by 400.\n",
        "\n",
        "print(\"Welcome to the Leap Year Calcultor.\")\n",
        "year = int(input(\"Please type in the year.\"))\n",
        "\n",
        "if year % 4 == 0:\n",
        "  if year % 100 == 0:\n",
        "    if year % 400 == 0:\n",
        "      print(f\"{year} is a leap year.\")\n",
        "    else:\n",
        "      print(f\"{year} is not a leap year.\")\n",
        "    \n",
        "  else:\n",
        "    print(f\"{year} is a leap year.\")\n",
        "\n",
        "else:\n",
        "  print(f\"{year} is not a leap year.\")\n",
        "  "
      ],
      "metadata": {
        "colab": {
          "base_uri": "https://localhost:8080/"
        },
        "id": "MKshLg83pUAS",
        "outputId": "76fa04a4-d442-4459-aca6-fb0d6cbc9cd7"
      },
      "execution_count": null,
      "outputs": [
        {
          "output_type": "stream",
          "name": "stdout",
          "text": [
            "Welcome to the Leap Year Calcultor.\n",
            "Please type in the year.2020\n",
            "2020 is a leap year.\n"
          ]
        }
      ]
    },
    {
      "cell_type": "markdown",
      "source": [
        "# Create a fee calculator for a rollercoaster game using multiple \"if\" function."
      ],
      "metadata": {
        "id": "TUrEVw-9QS06"
      }
    },
    {
      "cell_type": "code",
      "source": [
        "#Rollercoaster challenge\n",
        "print(\"Welcome to Rollercoaster!\")\n",
        "height = int(input(\"What is your height in cms? \\n\"))\n",
        "bill = 0\n",
        "if height > 120 :\n",
        "   age = int(input(\"What is Your age? \\n\"))\n",
        "   if age < 12:\n",
        "     bill +=5\n",
        "   elif age >12 and age < 18:\n",
        "     bill +=7\n",
        "   elif age > 18:\n",
        "     bill +=12\n",
        "   wants_photo = input(\"Do you want a picture taken? y or n \\n\")\n",
        "   if wants_photo == \"y\":\n",
        "      bill +=3\n",
        "      print(f\"Your final bill is ${bill}.\")\n",
        "   else: \n",
        "     bill+=0\n",
        "     print(f\"Your final bill is ${bill}.\")\n",
        "else:\n",
        "  print(\"You need to grow taller before you take this ride for safety cooncerns.\")"
      ],
      "metadata": {
        "colab": {
          "base_uri": "https://localhost:8080/"
        },
        "id": "w4jPVfr5Ksp4",
        "outputId": "1f8c5bf8-defc-475b-c070-a6b1b5bd0b67"
      },
      "execution_count": null,
      "outputs": [
        {
          "output_type": "stream",
          "name": "stdout",
          "text": [
            "Welcome to Rollercoaster!\n",
            "What is your height in cms? \n",
            "300\n",
            "What is Your age? \n",
            "60\n",
            "Do you want a picture taken? y or n \n",
            "y\n",
            "Your final bill is $15.\n"
          ]
        }
      ]
    },
    {
      "cell_type": "markdown",
      "source": [
        "# Pizza Ordering system"
      ],
      "metadata": {
        "id": "9-BUR3fMW2L9"
      }
    },
    {
      "cell_type": "code",
      "source": [
        "print(\"Welcome to Suro's Pizza!\")\n",
        "size = input(\"What pizza size would you like to have? S or M or L \\n\").lower()\n",
        "bill = 0\n",
        "if size ==\"s\":\n",
        "  bill +=15\n",
        "elif size ==\"m\":\n",
        "  bill+=20\n",
        "elif size == \"l\":\n",
        "  bill +=25\n",
        "\n",
        "add_pepper = input(\"Would you like pepperoni as add-on? y or no \\n\").lower()\n",
        "if add_pepper == \"y\":\n",
        "  if size == \"s\":\n",
        "    bill +=2\n",
        "  else:\n",
        "    bill +=3\n",
        "\n",
        "add_cheese = input(\"Would you like some extra cheese as an add-on? y or no \\n\").lower()\n",
        "if add_cheese ==\"y\":\n",
        "  bill +=1\n",
        "else:\n",
        "  bill +=0\n",
        "\n",
        "print(f\"The final bill is {bill}\")\n"
      ],
      "metadata": {
        "colab": {
          "base_uri": "https://localhost:8080/"
        },
        "id": "zLO6NrDiQjdT",
        "outputId": "5a0e46de-2b34-4f31-d39e-8f0e9f5b6da5"
      },
      "execution_count": null,
      "outputs": [
        {
          "output_type": "stream",
          "name": "stdout",
          "text": [
            "Welcome to Suro's Pizza!\n",
            "What pizza size would you like to have? S or M or L \n",
            "k\n",
            "invalid input\n",
            "Would you like pepperoni as add-on? y or no \n",
            "n\n",
            "Would you like some extra cheese as an add-on? y or no \n",
            "n\n",
            "The final bill is 0\n"
          ]
        }
      ]
    },
    {
      "cell_type": "markdown",
      "source": [
        "#Banker Roulette "
      ],
      "metadata": {
        "id": "HUXsMBPF7G9x"
      }
    },
    {
      "cell_type": "code",
      "source": [
        "# Banker roulette to determine who pays the bill.\n",
        "\n",
        "names = input(\"give me the names seperated by comma\")\n",
        "names = names.split(\",\")\n",
        "leng = len(names)\n",
        "ran =  random.randint(0,leng)\n",
        "print(f\"Bill has to be paid by {names[ran]}\")"
      ],
      "metadata": {
        "id": "Jaev5Zf0QkFg",
        "colab": {
          "base_uri": "https://localhost:8080/"
        },
        "outputId": "146cd9ed-6312-4103-9278-de5d483c7ea0"
      },
      "execution_count": null,
      "outputs": [
        {
          "output_type": "stream",
          "name": "stdout",
          "text": [
            "give me the names seperated by comma\"Warren Buffet\",\"Dennis Richard\",\"George Soros\",\"Charlie Munger\",\"Jesse Livermore\",\"Suraj G\"\n",
            "Bill has to be paid by \"Charlie Munger\"\n"
          ]
        }
      ]
    },
    {
      "cell_type": "markdown",
      "source": [
        "#Highest score"
      ],
      "metadata": {
        "id": "Tgisr4Ur7RYd"
      }
    },
    {
      "cell_type": "code",
      "source": [
        "print(\"Welcome to the highest score calculator!\")\n",
        "scores = input(\"give me the  scores here seperated by a space!\").split(\" \")\n",
        "highest_score = 0\n",
        "for score in scores:\n",
        "  if int(score) > int(highest_score):\n",
        "      highest_score = score \n",
        "print(f\"The highest score in the class is {highest_score}.\")"
      ],
      "metadata": {
        "colab": {
          "base_uri": "https://localhost:8080/"
        },
        "id": "7-l4b63H9LzN",
        "outputId": "48a3d0e9-e2d0-4888-bfa8-eedea9a3abb5"
      },
      "execution_count": null,
      "outputs": [
        {
          "output_type": "stream",
          "name": "stdout",
          "text": [
            "Welcome to the highest score calculator!\n",
            "give me the  scores here seperated by a space!1 2\n",
            "The highest score in the class is 2.\n"
          ]
        }
      ]
    },
    {
      "cell_type": "markdown",
      "source": [
        "## Fizz Buzz game."
      ],
      "metadata": {
        "id": "tHn4QzajHqYX"
      }
    },
    {
      "cell_type": "code",
      "source": [
        "print(\"Welcome to Fizz Buzz Game. Let's Play!\")\n",
        "for num in range(1,51):\n",
        "  if num % 3 ==0 and num % 5 == 0:\n",
        "    print(\"fizz buzz\")\n",
        "  elif num % 3 ==0:\n",
        "    print(\"fizz\")\n",
        "  elif num % 5 == 0:\n",
        "    print(\"buzz\") \n",
        "  else:\n",
        "    print(num)"
      ],
      "metadata": {
        "colab": {
          "base_uri": "https://localhost:8080/"
        },
        "id": "dODPccOzGWXp",
        "outputId": "e520f443-188c-412f-faba-79e0ddcc082b"
      },
      "execution_count": null,
      "outputs": [
        {
          "output_type": "stream",
          "name": "stdout",
          "text": [
            "Welcome to Fizz Buzz Game. Let's Play!\n",
            "1\n",
            "2\n",
            "fizz\n",
            "4\n",
            "buzz\n",
            "fizz\n",
            "7\n",
            "8\n",
            "fizz\n",
            "buzz\n",
            "11\n",
            "fizz\n",
            "13\n",
            "14\n",
            "fizz buzz\n",
            "16\n",
            "17\n",
            "fizz\n",
            "19\n",
            "buzz\n",
            "fizz\n",
            "22\n",
            "23\n",
            "fizz\n",
            "buzz\n",
            "26\n",
            "fizz\n",
            "28\n",
            "29\n",
            "fizz buzz\n",
            "31\n",
            "32\n",
            "fizz\n",
            "34\n",
            "buzz\n",
            "fizz\n",
            "37\n",
            "38\n",
            "fizz\n",
            "buzz\n",
            "41\n",
            "fizz\n",
            "43\n",
            "44\n",
            "fizz buzz\n",
            "46\n",
            "47\n",
            "fizz\n",
            "49\n",
            "buzz\n"
          ]
        }
      ]
    },
    {
      "cell_type": "markdown",
      "source": [
        "# Password Generator"
      ],
      "metadata": {
        "id": "djRw_8qPSumv"
      }
    },
    {
      "cell_type": "code",
      "source": [
        "#Password Generator\n",
        "letters = ['a', 'b', 'c', 'd', 'e', 'f', 'g', 'h', 'i', 'j', 'k', 'l', 'm', 'n', 'o', 'p', 'q', 'r', 's', 't', 'u', 'v', 'w', 'x', 'y', 'z', 'A', 'B', 'C', 'D', 'E', 'F', 'G', 'H', 'I', 'J', 'K', 'L', 'M', 'N', 'O', 'P', 'Q', 'R', 'S', 'T', 'U', 'V', 'W', 'X', 'Y', 'Z']\n",
        "numbers = ['0', '1', '2', '3', '4', '5', '6', '7', '8', '9']\n",
        "symbols = ['!', '#', '$', '%', '&', '(', ')', '*', '+']\n",
        "\n",
        "print(\"Welcome to Password Generator.\\nLet's create one for you!\")\n",
        "letters_num = int(input(\"How many letters would you like to have in your Password?\"))\n",
        "numbers_num = int(input(\"How many numbers would you like to have in your Password?\"))\n",
        "symbols_num = int(input(\"How many symbols would you like to have in your Password?\"))\n",
        "import random\n",
        "\n",
        "password = []\n",
        "for i in range(1,letters_num+1):\n",
        "  password += random.choice(letters)\n",
        "\n",
        "for i in range(1,numbers_num+1):\n",
        "  password += random.choice(numbers)\n",
        "\n",
        "for i in range(1,symbols_num+1):\n",
        "  password += random.choice(symbols)\n",
        "\n",
        "\n",
        "random.shuffle(password)\n",
        "strong_password = \"\"\n",
        "for i in password:\n",
        "  strong_password +=i\n",
        "print(f\"Your password is : {strong_password}\")\n",
        "\n",
        "\n",
        "\n",
        "\n",
        "\n"
      ],
      "metadata": {
        "colab": {
          "base_uri": "https://localhost:8080/"
        },
        "id": "AjBoAgv2GXEf",
        "outputId": "c47ba0b0-1aac-484a-c5cf-c3062210d0cf"
      },
      "execution_count": null,
      "outputs": [
        {
          "output_type": "stream",
          "name": "stdout",
          "text": [
            "Welcome to Password Generator.\n",
            "Let's create one for you!\n",
            "How many letters would you like to have in your Password?4\n",
            "How many numbers would you like to have in your Password?4\n",
            "How many symbols would you like to have in your Password?4\n",
            "['S', 'P', 'k', 'V', '1', '6', '9', '3', ')', '&', '(', '%']\n",
            "Your password is : &63(kSPV%)91\n"
          ]
        }
      ]
    },
    {
      "cell_type": "markdown",
      "source": [
        "# Prime number \n"
      ],
      "metadata": {
        "id": "qn3Z0izxYohE"
      }
    },
    {
      "cell_type": "code",
      "source": [
        "def prime_number(number):\n",
        "  prime = True\n",
        "  for i in range(2,number):\n",
        "    if number% i ==0:\n",
        "      prime = False\n",
        "  if prime == True:\n",
        "    print(\"is PRIME \")\n",
        "  else:\n",
        "    print(\"not PRIME\")\n",
        "\n",
        "prime_number(71)\n"
      ],
      "metadata": {
        "colab": {
          "base_uri": "https://localhost:8080/"
        },
        "id": "noD-CzKQYnaV",
        "outputId": "8ecc94fc-2fcc-4917-ebe2-9dcc196f753f"
      },
      "execution_count": null,
      "outputs": [
        {
          "output_type": "stream",
          "name": "stdout",
          "text": [
            "prime is \n"
          ]
        }
      ]
    },
    {
      "cell_type": "markdown",
      "source": [
        "# count strings"
      ],
      "metadata": {
        "id": "OEb6I6WXQB3d"
      }
    },
    {
      "cell_type": "code",
      "source": [
        "letter = input(\"please type the word\\n\")\n",
        "character = letter[0]\n",
        "count = 0\n",
        "output = \"\"\n",
        "for ch in letter:\n",
        "  if ch ==  character:\n",
        "    count+=1\n",
        "  else:\n",
        "    output = output+str(count)+character\n",
        "    count = 1\n",
        "    character = ch\n",
        "output = output + str(count)+character\n",
        "print(output)"
      ],
      "metadata": {
        "colab": {
          "base_uri": "https://localhost:8080/"
        },
        "id": "9IASH4qHZjkN",
        "outputId": "d96f9300-0fb8-433c-b9c0-ab9fe6723260"
      },
      "execution_count": 2,
      "outputs": [
        {
          "output_type": "stream",
          "name": "stdout",
          "text": [
            "please type the word\n",
            "aabbcc\n",
            "2a2b2c\n"
          ]
        }
      ]
    },
    {
      "cell_type": "markdown",
      "source": [
        "# Factorial of a number using recursive function"
      ],
      "metadata": {
        "id": "9DHQMWvxzv5H"
      }
    },
    {
      "cell_type": "code",
      "source": [
        "def factorial(n):\n",
        "  if n==0 or n==1:\n",
        "    return 1\n",
        "  else:\n",
        "    return n * factorial(n-1)\n",
        "n= int(input(\"Enter n value \"))\n",
        "print(f\"The factorial of {n} is {factorial(n)}.\")"
      ],
      "metadata": {
        "colab": {
          "base_uri": "https://localhost:8080/"
        },
        "id": "HLpGBccNz4LZ",
        "outputId": "0b5ff9d4-410f-491f-abfa-e23c26340e1d"
      },
      "execution_count": 27,
      "outputs": [
        {
          "output_type": "stream",
          "name": "stdout",
          "text": [
            "Enter n value 5\n",
            "The factorial of 5 is 120.\n"
          ]
        }
      ]
    },
    {
      "cell_type": "markdown",
      "source": [
        "#Find armstrong numbers"
      ],
      "metadata": {
        "id": "Dtod89GMAgCY"
      }
    },
    {
      "cell_type": "code",
      "source": [
        "\n",
        "n = int(input(\"Please type the whole number\"))\n",
        "count = len(str(n))\n",
        "sum_n = 0\n",
        "x = n\n",
        "while x > 0:\n",
        "    y = x%10\n",
        "    sum_n += y**count\n",
        "    x//=10\n",
        "if sum_n == n:\n",
        "    print(n, \"is an armstrong number.\")\n",
        "else:\n",
        "    print(n, \"is not an armstrong number.\")"
      ],
      "metadata": {
        "colab": {
          "base_uri": "https://localhost:8080/",
          "height": 252
        },
        "id": "762WZ-qcJK3b",
        "outputId": "91381655-ddaa-48d5-f314-8192a93e22a9"
      },
      "execution_count": 43,
      "outputs": [
        {
          "name": "stdout",
          "output_type": "stream",
          "text": [
            "Please type the whole number153\n"
          ]
        },
        {
          "output_type": "error",
          "ename": "TypeError",
          "evalue": "ignored",
          "traceback": [
            "\u001b[0;31m---------------------------------------------------------------------------\u001b[0m",
            "\u001b[0;31mTypeError\u001b[0m                                 Traceback (most recent call last)",
            "\u001b[0;32m<ipython-input-43-64d800a7666f>\u001b[0m in \u001b[0;36m<cell line: 3>\u001b[0;34m()\u001b[0m\n\u001b[1;32m      1\u001b[0m \u001b[0;31m#The follwing code runs perfectly fine on jupyter but not on colab.\u001b[0m\u001b[0;34m\u001b[0m\u001b[0;34m\u001b[0m\u001b[0m\n\u001b[1;32m      2\u001b[0m \u001b[0mn\u001b[0m \u001b[0;34m=\u001b[0m \u001b[0mint\u001b[0m\u001b[0;34m(\u001b[0m\u001b[0minput\u001b[0m\u001b[0;34m(\u001b[0m\u001b[0;34m\"Please type the whole number\"\u001b[0m\u001b[0;34m)\u001b[0m\u001b[0;34m)\u001b[0m\u001b[0;34m\u001b[0m\u001b[0;34m\u001b[0m\u001b[0m\n\u001b[0;32m----> 3\u001b[0;31m \u001b[0mcount\u001b[0m \u001b[0;34m=\u001b[0m \u001b[0mlen\u001b[0m\u001b[0;34m(\u001b[0m\u001b[0mn\u001b[0m\u001b[0;34m)\u001b[0m\u001b[0;34m\u001b[0m\u001b[0;34m\u001b[0m\u001b[0m\n\u001b[0m\u001b[1;32m      4\u001b[0m \u001b[0msum_n\u001b[0m \u001b[0;34m=\u001b[0m \u001b[0;36m0\u001b[0m\u001b[0;34m\u001b[0m\u001b[0;34m\u001b[0m\u001b[0m\n\u001b[1;32m      5\u001b[0m \u001b[0mx\u001b[0m \u001b[0;34m=\u001b[0m \u001b[0mn\u001b[0m\u001b[0;34m\u001b[0m\u001b[0;34m\u001b[0m\u001b[0m\n",
            "\u001b[0;31mTypeError\u001b[0m: 'int' object is not callable"
          ]
        }
      ]
    },
    {
      "cell_type": "markdown",
      "source": [
        "#Date and Time module"
      ],
      "metadata": {
        "id": "cNbOxSxJ2jJK"
      }
    },
    {
      "cell_type": "code",
      "source": [
        "import datetime\n",
        "today = datetime.datetime.today()\n",
        "print(today)\n",
        "tomorrow= today+datetime.timedelta(days=1)\n",
        "print(tomorrow)\n",
        "yesterday= today+datetime.timedelta(days=-1)\n",
        "print(yesterday)"
      ],
      "metadata": {
        "colab": {
          "base_uri": "https://localhost:8080/"
        },
        "id": "LwJt5jy69ZFQ",
        "outputId": "18d8ba79-93fd-471d-d041-41c9e18f195b"
      },
      "execution_count": 56,
      "outputs": [
        {
          "output_type": "stream",
          "name": "stdout",
          "text": [
            "2023-05-26 12:13:58.310493\n",
            "2023-05-27 12:13:58.310493\n",
            "2023-05-25 12:13:58.310493\n"
          ]
        }
      ]
    },
    {
      "cell_type": "markdown",
      "source": [
        "# Spy number"
      ],
      "metadata": {
        "id": "i9HpbhQgS6gZ"
      }
    },
    {
      "cell_type": "code",
      "source": [
        "\n",
        "n= int(input(\"please enter the number\"))\n",
        "str_n = str(n)\n",
        "l = len(str_n)\n",
        "sum_n =0\n",
        "mul_n = 1\n",
        "x= n\n",
        "while x > 0:\n",
        "    y = x%10\n",
        "    sum_n = sum_n + y\n",
        "    mul_n = mul_n * y\n",
        "    x//=10\n",
        "if sum_n == mul_n:\n",
        "    print(n,\" is a spy number.\")\n",
        "else:\n",
        "    print(n,\" is not a spy number.\")"
      ],
      "metadata": {
        "colab": {
          "base_uri": "https://localhost:8080/",
          "height": 252
        },
        "id": "1ahggo3NLiso",
        "outputId": "3f5d8611-d8bf-4620-c2b0-5d30a99157e6"
      },
      "execution_count": 58,
      "outputs": [
        {
          "name": "stdout",
          "output_type": "stream",
          "text": [
            "please enter the number1124\n"
          ]
        },
        {
          "output_type": "error",
          "ename": "TypeError",
          "evalue": "ignored",
          "traceback": [
            "\u001b[0;31m---------------------------------------------------------------------------\u001b[0m",
            "\u001b[0;31mTypeError\u001b[0m                                 Traceback (most recent call last)",
            "\u001b[0;32m<ipython-input-58-818abf1c25f3>\u001b[0m in \u001b[0;36m<cell line: 3>\u001b[0;34m()\u001b[0m\n\u001b[1;32m      1\u001b[0m \u001b[0mn\u001b[0m\u001b[0;34m=\u001b[0m \u001b[0mint\u001b[0m\u001b[0;34m(\u001b[0m\u001b[0minput\u001b[0m\u001b[0;34m(\u001b[0m\u001b[0;34m\"please enter the number\"\u001b[0m\u001b[0;34m)\u001b[0m\u001b[0;34m)\u001b[0m\u001b[0;34m\u001b[0m\u001b[0;34m\u001b[0m\u001b[0m\n\u001b[1;32m      2\u001b[0m \u001b[0mstr_n\u001b[0m \u001b[0;34m=\u001b[0m \u001b[0mstr\u001b[0m\u001b[0;34m(\u001b[0m\u001b[0mn\u001b[0m\u001b[0;34m)\u001b[0m\u001b[0;34m\u001b[0m\u001b[0;34m\u001b[0m\u001b[0m\n\u001b[0;32m----> 3\u001b[0;31m \u001b[0ml\u001b[0m \u001b[0;34m=\u001b[0m \u001b[0mlen\u001b[0m\u001b[0;34m(\u001b[0m\u001b[0mstr_n\u001b[0m\u001b[0;34m)\u001b[0m\u001b[0;34m\u001b[0m\u001b[0;34m\u001b[0m\u001b[0m\n\u001b[0m\u001b[1;32m      4\u001b[0m \u001b[0msum_n\u001b[0m \u001b[0;34m=\u001b[0m\u001b[0;36m0\u001b[0m\u001b[0;34m\u001b[0m\u001b[0;34m\u001b[0m\u001b[0m\n\u001b[1;32m      5\u001b[0m \u001b[0mmul_n\u001b[0m \u001b[0;34m=\u001b[0m \u001b[0;36m1\u001b[0m\u001b[0;34m\u001b[0m\u001b[0;34m\u001b[0m\u001b[0m\n",
            "\u001b[0;31mTypeError\u001b[0m: 'int' object is not callable"
          ]
        }
      ]
    },
    {
      "cell_type": "markdown",
      "source": [
        "# Neon number"
      ],
      "metadata": {
        "id": "1mDDiaUXU5PX"
      }
    },
    {
      "cell_type": "code",
      "source": [
        "n =int(input(\"Please type the number. \"))\n",
        "sqr = n**2\n",
        "sum = 0\n",
        "while sqr> 0:\n",
        "    digit = sqr % 10\n",
        "    sum = sum+digit\n",
        "    sqr= sqr//10\n",
        "if sum == n:\n",
        "    print(n,\" is a neon number.\")\n",
        "else:\n",
        "    print(n,\" is not a neon number.\")\n",
        "        \n",
        "        \n",
        "        "
      ],
      "metadata": {
        "colab": {
          "base_uri": "https://localhost:8080/"
        },
        "id": "AFrXuxfnU3uq",
        "outputId": "57195b80-cbea-412d-ef80-61628719caf0"
      },
      "execution_count": 65,
      "outputs": [
        {
          "output_type": "stream",
          "name": "stdout",
          "text": [
            "Please type the number. 112456789\n",
            "112456789  is not a neon number.\n"
          ]
        }
      ]
    },
    {
      "cell_type": "markdown",
      "source": [
        "#Disarium numbers"
      ],
      "metadata": {
        "id": "KJR2DW4ogh4K"
      }
    },
    {
      "cell_type": "code",
      "source": [
        "\n",
        "n = int(input(\"please type the number \"))\n",
        "count = 0\n",
        "sum = 0\n",
        "l = len(str(n))\n",
        "x = n\n",
        "while x>0:\n",
        "    y=x%10\n",
        "    sum = sum + y**l\n",
        "    l=l-1\n",
        "    x//=10\n",
        "if sum == n:\n",
        "    print(n, \"is a disarium number.\")\n",
        "else:\n",
        "    print(n, \"is not a disarium number.\")"
      ],
      "metadata": {
        "colab": {
          "base_uri": "https://localhost:8080/"
        },
        "id": "zDQYlzCRgmlf",
        "outputId": "417ae84f-fdd5-457c-b781-859367c7540c"
      },
      "execution_count": 1,
      "outputs": [
        {
          "output_type": "stream",
          "name": "stdout",
          "text": [
            "please type the number 89\n",
            "89 is a disarium number.\n"
          ]
        }
      ]
    },
    {
      "cell_type": "markdown",
      "source": [
        "#Fibonacci sequence"
      ],
      "metadata": {
        "id": "GsDxj7-mEA5g"
      }
    },
    {
      "cell_type": "code",
      "source": [
        "n= int(input(\"How many digits in sequence should be printed?: \"))\n",
        "n1=0\n",
        "n2=1\n",
        "count=2\n",
        "if n<0:\n",
        "    print(\"Please enter only +ve integers.\")\n",
        "elif n ==1:\n",
        "    print(n1)\n",
        "else:\n",
        "    print(n1, end =\" \")\n",
        "    print(n2, end =\" \")\n",
        "    while count<n:\n",
        "        n3=n1+n2\n",
        "        print(n3,end =\" \")\n",
        "        n1=n2\n",
        "        n2=n3\n",
        "        count=count+1\n",
        "         \n",
        "\n",
        "\n",
        "\n"
      ],
      "metadata": {
        "colab": {
          "base_uri": "https://localhost:8080/"
        },
        "id": "Mh1_B7tAEF7g",
        "outputId": "a2a38542-7e73-446a-ff8f-7a9b983bf905"
      },
      "execution_count": 36,
      "outputs": [
        {
          "output_type": "stream",
          "name": "stdout",
          "text": [
            "How many digits in sequence should be printed?: 10\n",
            "0 1 1 2 3 5 8 13 21 34 "
          ]
        }
      ]
    },
    {
      "cell_type": "code",
      "source": [
        "# Fibonacci numbers in between 2 number or in the range.\n",
        "n= int(input(\"How many digits in sequence should be printed?: \"))\n",
        "n1=0\n",
        "n2=1\n",
        "count=2\n",
        "a=[]\n",
        "b= int(input(\"enter the min range: \"))\n",
        "c=int(input(\"enter the max range: \"))\n",
        "if n<0:\n",
        "    print(\"Please enter only +ve integers.\")\n",
        "elif n ==1:\n",
        "    a.append(n)\n",
        "else:\n",
        "    a.append(n1)\n",
        "    a.append(n2)\n",
        "    while count<n:\n",
        "        n3=n1+n2   \n",
        "        a.append(n3)   \n",
        "        n1=n2\n",
        "        n2=n3\n",
        "        count=count+1\n",
        "\n",
        "for i in a:\n",
        "  if i >= b and i <= c:\n",
        "    print(i)\n",
        "\n",
        "\n",
        "\n"
      ],
      "metadata": {
        "colab": {
          "base_uri": "https://localhost:8080/"
        },
        "id": "usgP97naER9m",
        "outputId": "6900849e-ed63-4afd-e93e-c58e43024a49"
      },
      "execution_count": 47,
      "outputs": [
        {
          "output_type": "stream",
          "name": "stdout",
          "text": [
            "How many digits in sequence should be printed?: 20\n",
            "enter the min range: 10\n",
            "enter the nax range: 100\n",
            "13\n",
            "21\n",
            "34\n",
            "55\n",
            "89\n"
          ]
        }
      ]
    },
    {
      "cell_type": "markdown",
      "source": [
        "#Palindrome program"
      ],
      "metadata": {
        "id": "bPkDWEXbPdnz"
      }
    },
    {
      "cell_type": "code",
      "source": [
        "word = input(\"please type the word. \\n\")\n",
        "if word == word[::-1]:\n",
        "  print(word,\"is a palindrome.\")\n",
        "else:\n",
        "  print(word,\"is not a palindrome.\")"
      ],
      "metadata": {
        "colab": {
          "base_uri": "https://localhost:8080/"
        },
        "id": "DJFY-wTZPiJN",
        "outputId": "7004b3bd-5b39-4205-86be-d2877309a21b"
      },
      "execution_count": 6,
      "outputs": [
        {
          "output_type": "stream",
          "name": "stdout",
          "text": [
            "please type the word. \n",
            "123\n",
            "123 not a palindrome.\n"
          ]
        }
      ]
    },
    {
      "cell_type": "code",
      "source": [
        "word = input(\"Please type the word. \\n\")\n",
        "rev_word = \"\"\n",
        "for char in word:\n",
        "  rev_word = char + rev_word \n",
        "if word == rev_word:\n",
        "  print(word,\" is a palindrome.\")\n",
        "else:\n",
        "  print(word,\" is not a plaindrome.\")"
      ],
      "metadata": {
        "colab": {
          "base_uri": "https://localhost:8080/"
        },
        "id": "GfNfDc3ChKyz",
        "outputId": "06ffc912-098b-40d9-d779-2069e4d10f43"
      },
      "execution_count": 1,
      "outputs": [
        {
          "output_type": "stream",
          "name": "stdout",
          "text": [
            "Please type the word. \n",
            "sus\n",
            "sus  is a palindrome.\n"
          ]
        }
      ]
    }
  ],
  "metadata": {
    "colab": {
      "provenance": [],
      "collapsed_sections": [
        "cr3lmYASBVO-",
        "a-RgmiyqAoCn",
        "wb6ICKz-CDCR",
        "o2bSZTaECJm0",
        "TUrEVw-9QS06",
        "9-BUR3fMW2L9",
        "HUXsMBPF7G9x",
        "Tgisr4Ur7RYd",
        "tHn4QzajHqYX",
        "djRw_8qPSumv",
        "qn3Z0izxYohE",
        "OEb6I6WXQB3d",
        "9DHQMWvxzv5H",
        "Dtod89GMAgCY",
        "cNbOxSxJ2jJK",
        "i9HpbhQgS6gZ",
        "1mDDiaUXU5PX",
        "KJR2DW4ogh4K",
        "GsDxj7-mEA5g",
        "bPkDWEXbPdnz"
      ]
    },
    "kernelspec": {
      "display_name": "Python 3",
      "name": "python3"
    }
  },
  "nbformat": 4,
  "nbformat_minor": 0
}